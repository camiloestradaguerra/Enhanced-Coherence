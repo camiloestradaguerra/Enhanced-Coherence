{
 "cells": [
  {
   "cell_type": "code",
   "execution_count": 126,
   "id": "b0c3f623",
   "metadata": {},
   "outputs": [],
   "source": [
    "%matplotlib inline\n",
    "import matplotlib.pyplot as plt\n",
    "import numpy as np\n",
    "from scipy.sparse import csr_matrix\n",
    "from qutip import *"
   ]
  },
  {
   "cell_type": "code",
   "execution_count": 138,
   "id": "474210e2",
   "metadata": {},
   "outputs": [],
   "source": [
    "# Parameters\n",
    "\n",
    "w0 = 1\n",
    "w0_res = 1\n",
    "wf = 1\n",
    "f1 = 0.6/np.sqrt(2)\n",
    "f2 = 0.6\n",
    "T = np.arange(0.01,2,0.05)\n",
    "Beta = 1/T"
   ]
  },
  {
   "cell_type": "code",
   "execution_count": 139,
   "id": "b52c5cea",
   "metadata": {},
   "outputs": [],
   "source": [
    "# Hamiltonian of the Jaynes-Cummings in the {|0+>,|0->,|1+>,|1->,...,|n+>,|n->} basis\n",
    "\n",
    "def wnp(g, n):\n",
    "    return 0.5*(np.sqrt(4.0*g**2*(n+1)+(w0-wf)**2)+wf+2.0*n*wf)\n",
    "\n",
    "def wnm(g, n):\n",
    "    return 0.5*(-np.sqrt(4.0*g**2*(n+1)+(w0-wf)**2)+wf+2.0*n*wf)"
   ]
  },
  {
   "cell_type": "code",
   "execution_count": 140,
   "id": "4ce83445",
   "metadata": {},
   "outputs": [],
   "source": [
    "def row1(nph):\n",
    "    return [2*i for i in range(0, nph+1)]\n",
    "    \n",
    "def col1(nph):\n",
    "    return [2*i for i in range(0, nph+1)]\n",
    "\n",
    "def data1(g, nph):\n",
    "    return [wnp(g, i) for i in range(0, nph+1)]\n",
    "\n",
    "def row2(nph):\n",
    "    return [2*i+1 for i in range(0, nph+1)]\n",
    "\n",
    "def col2(nph):\n",
    "    return [2*i+1 for i in range(0, nph+1)]\n",
    "\n",
    "def data2(g, nph):\n",
    "    return [wnm(g, i) for i in range(0, nph+1)]\n",
    "\n",
    "def hjcp(g, nph):\n",
    "    return Qobj(csr_matrix((data1(g, nph), (row1(nph), col1(nph))), shape=(2*(nph+1), 2*(nph+1))).toarray() + csr_matrix((data2(g, nph), (row2(nph), col2(nph))), shape=(2*(nph+1), 2*(nph+1))).toarray())"
   ]
  },
  {
   "cell_type": "code",
   "execution_count": 141,
   "id": "5514c74c",
   "metadata": {},
   "outputs": [],
   "source": [
    "def cosn(g, n):\n",
    "    return np.sqrt((w0-wf+np.sqrt(4*g**2*(1+n)+(w0-wf)**2))/np.sqrt(4*g**2*(1+n)+(w0-wf)**2))/np.sqrt(2)\n",
    "\n",
    "def sinn(g, n):\n",
    "    return np.sqrt((-w0+wf+np.sqrt(4*g**2*(1+n)+(w0-wf)**2))/np.sqrt(4*g**2*(1+n)+(w0-wf)**2))/np.sqrt(2)\n",
    "\n",
    "def sinn_ar(g, nph):     \n",
    "    return [sinn(g, x) for x in range(0, nph+1)]\n",
    "\n",
    "def cosn_ar(g, nph):\n",
    "    return [cosn(g, x) for x in range(0, nph+1)]"
   ]
  },
  {
   "cell_type": "code",
   "execution_count": 142,
   "id": "37c3cc3a",
   "metadata": {},
   "outputs": [],
   "source": [
    "def row3(nph):\n",
    "    return [i for i in range(0, 2*(nph+1))]\n",
    "def col3(nph):\n",
    "    return [i for i in range(0, 2*(nph+1))]\n",
    "def data3a(g, nph):\n",
    "    return [cosn_ar(g, nph)[i] for i in range(0, nph+1)]\n",
    "\n",
    "def data3(g, nph):\n",
    "    return list(np.repeat(data3a(g, nph), 2))\n",
    "\n",
    "def row4(nph):\n",
    "    return [2*i for i in range(0, nph+1)]\n",
    "\n",
    "def col4(nph):\n",
    "    return [2*i+1 for i in range(0, nph+1)]\n",
    "\n",
    "def data4(g, nph):\n",
    "    return [-sinn_ar(g, nph)[i] for i in range(0, nph+1)]\n",
    "\n",
    "def row5(nph):\n",
    "    return [2*i+1 for i in range(0, nph+1)]\n",
    "def col5(nph):\n",
    "    return [2*i for i in range(0, nph+1)]\n",
    "\n",
    "def data5(g, nph):\n",
    "    return [sinn_ar(g, nph)[i] for i in range(0, nph+1)]\n",
    "\n",
    "def t(g,nph):\n",
    "    return Qobj(csr_matrix((data3(g, nph), (row3(nph), col3(nph))), shape=(2*(nph+1), 2*(nph+1))).toarray()+csr_matrix((data4(g, nph), (row4(nph), col4(nph))), shape=(2*(nph+1), 2*(nph+1))).toarray()+csr_matrix((data5(g, nph), (row5(nph), col5(nph))), shape=(2*(nph+1), 2*(nph+1))).toarray())\n",
    "\n",
    "def tinv(g,nph):\n",
    "    return Qobj(np.linalg.inv(t(g,nph)))\n",
    "\n"
   ]
  },
  {
   "cell_type": "code",
   "execution_count": 144,
   "id": "7a0934bc",
   "metadata": {},
   "outputs": [],
   "source": [
    "def row6(nph):\n",
    "    return [2*i for i in range(0, nph+1)]\n",
    "\n",
    "def col6(nph):\n",
    "    return [2*i for i in range(0, nph+1)]\n",
    "\n",
    "def data6(nph):\n",
    "    return [f1 for i in range(0, nph+1)]\n",
    "\n",
    "def row7(nph):\n",
    "    return [2*i+1 for i in range(0, nph+1)]\n",
    "\n",
    "def col7(nph):\n",
    "    return [2*i+1 for i in range(0, nph+1)]\n",
    "\n",
    "def data7(nph): \n",
    "    return [-f1 for i in range(0, nph+1)]\n",
    "\n",
    "def row8(nph):\n",
    "    return [2*i+1 for i in range(0, nph+1)]\n",
    "\n",
    "def col8(nph):\n",
    "    return [2*i for i in range(0, nph+1)]\n",
    "\n",
    "def data8(nph):\n",
    "    return [f2 for i in range(0, nph+1)]\n",
    "\n",
    "def row9(nph):\n",
    "    return [2*i for i in range(0, nph+1)]\n",
    "\n",
    "def col9(nph): \n",
    "    return [2*i+1 for i in range(0, nph+1)]\n",
    "\n",
    "def s(nph):\n",
    "    \"Ladder Operator of the Reservoir\"\n",
    "    return Qobj(csr_matrix((data6(nph), (row6(nph), col6(nph))), shape=(2*(nph+1), 2*(nph+1))).toarray()+csr_matrix((data7(nph), (row7(nph), col7(nph))), shape=(2*(nph+1), 2*(nph+1))).toarray()+csr_matrix((data8(nph), (row8(nph), col8(nph))), shape=(2*(nph+1), 2*(nph+1))).toarray())\n",
    "\n",
    "def sd(nph):\n",
    "    \"Ladder Operator of the Reservoir\"\n",
    "    return Qobj(csr_matrix((data6(nph), (row6(nph), col6(nph))), shape=(2*(nph+1), 2*(nph+1))).toarray()+csr_matrix((data7(nph), (row7(nph), col7(nph))), shape=(2*(nph+1), 2*(nph+1))).toarray()+csr_matrix((data8(nph), (row9(nph), col9(nph))), shape=(2*(nph+1), 2*(nph+1))).toarray())\n",
    "\n",
    "def row10(nph):\n",
    "    return [2*i+1 for i in range(0, nph+1)]\n",
    "\n",
    "def col10(nph):\n",
    "    return [2*i+1 for i in range(0, nph+1)]\n",
    "\n",
    "def data10(nph):\n",
    "    return [1 for i in range(0, nph+1)]\n",
    "\n",
    "def nmnm(nph):\n",
    "    return Qobj(csr_matrix((data10(nph), (row10(nph), col10(nph))), shape=(2*(nph+1), 2*(nph+1))).toarray())\n",
    "\n",
    "def row11(nph):\n",
    "    return [2*i for i in range(0, nph+1)]\n",
    "\n",
    "def col11(nph):\n",
    "    return [2*i for i in range(0, nph+1)]\n",
    "\n",
    "def npnp(nph):\n",
    "    return Qobj(csr_matrix((data10(nph), (row11(nph), col11(nph))), shape=(2*(nph+1), 2*(nph+1))).toarray())\n",
    "\n",
    "def row12(nph):\n",
    "     return [2*i+1 for i in range(0, nph+1)]\n",
    "\n",
    "def col12(nph):\n",
    "    return [2*i for i in range(0, nph+1)]\n",
    "\n",
    "def data12(nph):\n",
    "    return [1 for i in range(0, nph+1)]\n",
    "\n",
    "def nmnp(nph):\n",
    "    return Qobj(csr_matrix((data12(nph), (row12(nph), col12(nph))), shape=(2*(nph+1), 2*(nph+1))).toarray())\n",
    "\n",
    "def row13(nph):\n",
    "    return [2*i for i in range(0, nph+1)]\n",
    "\n",
    "def col13(nph): \n",
    "    return [2*i+1 for i in range(0, nph+1)]\n",
    "\n",
    "def data13(nph):\n",
    "    return [1 for i in range(0, nph+1)]\n",
    "\n",
    "def npnm(nph):\n",
    "    return Qobj(csr_matrix((data13(nph), (row13(nph), col13(nph))), shape=(2*(nph+1), 2*(nph+1))).toarray())\n",
    "\n",
    "def sigma_zp(nph):\n",
    "    return npnp(nph)-nmnm(nph)\n",
    "\n",
    "def sigma_xp(nph):\n",
    "    return nmnp(nph)+npnm(nph)\n",
    "\n",
    "def sigma_yp(nph):\n",
    "    return -1j*npnm(nph)+1j*nmnp(nph)"
   ]
  },
  {
   "cell_type": "code",
   "execution_count": 145,
   "id": "2d711700",
   "metadata": {},
   "outputs": [],
   "source": [
    "def z(beta):\n",
    "    \"Partition Function of the two level atom in thermal equilibrium\"\n",
    "    return np.exp(-0.5*beta*w0_res)+np.exp(0.5*beta*w0_res)\n",
    "\n",
    "def rho_th(beta):\n",
    "    \"Density Matrix of the two level atom ensemble in thermal equilibrium\"\n",
    "    return Qobj(np.array([[np.exp(-0.5*beta*w0_res)/z(beta),0],[0,np.exp(0.5*beta*w0_res)/z(beta)]]))\n",
    "\n",
    "def c1(Nmax, beta):\n",
    "    \"Constant relating the bath element (atom)\"\n",
    "    sigma_minus = Qobj(np.array([[0,0],[1,0]]))\n",
    "    sigma_plus = Qobj(np.array([[0,1],[0,0]]))\n",
    "    return Nmax*(sigma_minus*sigma_plus*rho_th(beta)).tr()\n",
    "\n",
    "def c2(Nmax, beta):\n",
    "    sigma_minus = Qobj(np.array([[0,0],[1,0]]))\n",
    "    sigma_plus = Qobj(np.array([[0,1],[0,0]]))\n",
    "    \"Constant relating the bath element (atom)\"\n",
    "    return Nmax*(sigma_plus*sigma_minus*rho_th(beta)).tr()\n",
    "\n",
    "def c_op_list(Nmax, beta, nph): \n",
    "    \"Set of the dissipator operators\"\n",
    "    return [np.sqrt(c1(Nmax, beta))*s(nph), np.sqrt(c2(Nmax, beta))*sd(nph)]\n",
    "\n",
    "def rho_ss(Nmax, beta, g, nph):\n",
    "    \"Steady State Density Matrix of the Atom\"\n",
    "    return steadystate(hjcp(g, nph), c_op_list(Nmax, beta, nph))\n",
    "\n",
    "def coh_ss(Nmax, beta, g, nph):\n",
    "    \"Coherence\"\n",
    "    return np.abs((sigma_xp(nph)*rho_ss(Nmax, beta, g, nph)+1j*sigma_yp(nph)*rho_ss(Nmax, beta, g, nph)).tr())\n",
    "\n",
    "def coh_nmax(Nmax,beta, g, nph):\n",
    "    \"Coherence function of N bath elements (Nmax)\"\n",
    "    coh_n = np.array([])\n",
    "    for i in range(0,len(beta)):\n",
    "        coh_n = np.append(coh_n, coh_ss(Nmax, beta[i], g, nph))\n",
    "    return coh_n"
   ]
  },
  {
   "cell_type": "code",
   "execution_count": 146,
   "id": "0770e6e4",
   "metadata": {},
   "outputs": [
    {
     "data": {
      "image/png": "[encoded data removed]",
      "text/plain": [
       "<Figure size 432x288 with 1 Axes>"
      ]
     },
     "metadata": {
      "needs_background": "light"
     },
     "output_type": "display_data"
    }
   ],
   "source": [
    "plt.plot(T,coh_nmax(1, Beta, 0.2, 0))\n",
    "plt.plot(T,coh_nmax(2, Beta, 0.2, 0))\n",
    "plt.plot(T,coh_nmax(4, Beta, 0.2, 0))\n",
    "plt.plot(T,coh_nmax(8, Beta, 0.2, 0))\n",
    "plt.plot(T,coh_nmax(20, Beta, 0.2, 0))\n",
    "plt.xlabel(\"T\",size=15)\n",
    "plt.ylabel(\"Coherence\", size=15)\n",
    "plt.ylim(0,1)\n",
    "plt.legend([\"Nmax=0\", \"Nmax=2\", \"Nmax=4\", \"Nmax=8\", \"Nmax=20\"])\n",
    "plt.show()"
   ]
  },
  {
   "cell_type": "code",
   "execution_count": 147,
   "id": "14325372",
   "metadata": {},
   "outputs": [
    {
     "data": {
      "image/png": "[encoded data removed]",
      "text/plain": [
       "<Figure size 432x288 with 1 Axes>"
      ]
     },
     "metadata": {
      "needs_background": "light"
     },
     "output_type": "display_data"
    }
   ],
   "source": [
    "plt.plot(T,coh_nmax(1, Beta, 0.0, 0))\n",
    "plt.plot(T,coh_nmax(1, Beta, 0.2, 0))\n",
    "plt.plot(T,coh_nmax(1, Beta, 0.4, 0))\n",
    "plt.plot(T,coh_nmax(1, Beta, 0.6, 0))\n",
    "plt.plot(T,coh_nmax(1, Beta, 1.0, 0))\n",
    "plt.xlabel(\"T\",size=15)\n",
    "plt.ylabel(\"Coherence\", size=15)\n",
    "plt.ylim(0,1)\n",
    "plt.legend([\"g=0\", \"g=0.2\", \"g=0.4\", \"g=0.6\", \"g=1\"])\n",
    "plt.show()"
   ]
  },
  {
   "cell_type": "code",
   "execution_count": 148,
   "id": "9273f0b9",
   "metadata": {},
   "outputs": [
    {
     "data": {
      "image/png": "[encoded data removed]",
      "text/plain": [
       "<Figure size 432x288 with 1 Axes>"
      ]
     },
     "metadata": {
      "needs_background": "light"
     },
     "output_type": "display_data"
    }
   ],
   "source": [
    "plt.plot(T,coh_nmax(1, Beta, 0.2, 0))\n",
    "plt.plot(T,coh_nmax(1, Beta, 0.2, 1))\n",
    "plt.plot(T,coh_nmax(1, Beta, 0.2, 2))\n",
    "plt.plot(T,coh_nmax(1, Beta, 0.2, 4))\n",
    "plt.plot(T,coh_nmax(1, Beta, 0.2, 7))\n",
    "plt.xlabel(\"T\",size=15)\n",
    "plt.ylabel(\"Coherence\", size=15)\n",
    "plt.legend([\"nph=0\", \"nph=1\", \"nph=2\", \"nph=4\", \"nph=7\"])\n",
    "plt.show()"
   ]
  }
 ],
 "metadata": {
  "kernelspec": {
   "display_name": "Python 3 (ipykernel)",
   "language": "python",
   "name": "python3"
  },
  "language_info": {
   "codemirror_mode": {
    "name": "ipython",
    "version": 3
   },
   "file_extension": ".py",
   "mimetype": "text/x-python",
   "name": "python",
   "nbconvert_exporter": "python",
   "pygments_lexer": "ipython3",
   "version": "3.9.12"
  }
 },
 "nbformat": 4,
 "nbformat_minor": 5
}
